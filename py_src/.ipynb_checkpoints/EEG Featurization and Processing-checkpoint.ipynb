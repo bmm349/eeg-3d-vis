{
 "cells": [
  {
   "cell_type": "code",
   "execution_count": 1,
   "metadata": {},
   "outputs": [],
   "source": [
    "# Meme imports\n",
    "# yeah, i do data science, how could you tell?\n",
    "import pandas as pd\n",
    "import numpy as np\n",
    "import sklearn\n",
    "import scipy\n",
    "\n"
   ]
  },
  {
   "cell_type": "code",
   "execution_count": 2,
   "metadata": {},
   "outputs": [
    {
     "name": "stdout",
     "output_type": "stream",
     "text": [
      "        timestamps     TP9     AF7     AF8    TP10  Right AUX\n",
      "0     1.587020e+09  35.156  39.551  33.203  25.879     63.477\n",
      "1     1.587020e+09  93.750  38.574  32.227  78.125     96.680\n",
      "2     1.587020e+09  72.754  41.504  36.621  69.824     62.988\n",
      "3     1.587020e+09  12.207  41.016  39.551  20.020      6.348\n",
      "4     1.587020e+09  16.602  36.133  39.062  17.578    -18.555\n",
      "5     1.587020e+09  80.078  32.715  38.086  68.359     25.879\n",
      "6     1.587020e+09  82.031  30.762  40.527  75.195      9.766\n",
      "7     1.587020e+09  20.508  35.156  43.945  20.996    -25.879\n",
      "8     1.587020e+09   5.371  33.691  41.016  -6.348     16.113\n",
      "9     1.587020e+09  55.664  32.715  37.598  37.109     56.152\n",
      "10    1.587020e+09  89.844  37.598  37.598  73.730     79.102\n",
      "11    1.587020e+09  43.457  37.598  40.039  36.621     48.828\n",
      "12    1.587020e+09   0.000  36.621  38.574  -4.395    -16.602\n",
      "13    1.587020e+09  40.039  35.156  36.621  22.949     10.742\n",
      "14    1.587020e+09  69.336  31.250  34.668  68.359     44.922\n",
      "15    1.587020e+09  29.785  34.668  34.668  47.363     30.762\n",
      "16    1.587020e+09 -13.672  36.621  36.133   0.000     66.406\n",
      "17    1.587020e+09  16.113  33.203  32.227  11.719     55.176\n",
      "18    1.587020e+09  81.055  32.715  31.250  67.383     -9.766\n",
      "19    1.587020e+09  67.871  34.180  36.133  69.824     22.949\n",
      "20    1.587020e+09  14.160  35.156  39.551  20.020     74.219\n",
      "21    1.587020e+09  19.531  34.668  37.598  14.160     10.254\n",
      "22    1.587020e+09  74.707  34.668  34.668  65.430      6.836\n",
      "23    1.587020e+09  83.984  35.156  33.691  78.613     16.113\n",
      "24    1.587020e+09  21.484  34.668  36.133  23.926     51.270\n",
      "25    1.587020e+09  -0.488  35.645  36.133  -8.789     56.641\n",
      "26    1.587020e+09  62.500  34.180  33.203  33.691     24.902\n",
      "27    1.587020e+09  88.867  31.250  30.273  70.312     22.461\n",
      "28    1.587020e+09  38.086  36.133  35.156  35.645     19.531\n",
      "29    1.587020e+09  -5.859  37.109  37.109  -3.906     22.949\n",
      "...            ...     ...     ...     ...     ...        ...\n",
      "7506  1.587020e+09  -8.789  29.297  33.203   1.465     59.082\n",
      "7507  1.587020e+09  47.363  25.391  30.273  34.180      3.906\n",
      "7508  1.587020e+09  89.355  25.879  30.762  86.914    -19.043\n",
      "7509  1.587020e+09  48.828  30.762  30.762  59.082      1.465\n",
      "7510  1.587020e+09  -1.465  31.738  34.668   9.766     30.273\n",
      "7511  1.587020e+09  23.926  30.762  35.156  27.344     29.297\n",
      "7512  1.587020e+09  89.844  29.785  31.738  80.078     25.879\n",
      "7513  1.587020e+09  62.012  29.297  34.180  73.730     60.547\n",
      "7514  1.587020e+09 -11.230  33.203  37.109  22.949     32.715\n",
      "7515  1.587020e+09  11.230  37.109  37.598  18.555     53.711\n",
      "7516  1.587020e+09  69.336  32.715  31.250  62.500     74.707\n",
      "7517  1.587020e+09  68.848  33.691  29.297  79.102     17.090\n",
      "7518  1.587020e+09  12.207  41.016  36.621  36.133     50.781\n",
      "7519  1.587020e+09 -10.254  34.180  33.203   2.441     36.621\n",
      "7520  1.587020e+09  56.152  27.832  28.320  39.551     43.457\n",
      "7521  1.587020e+09  77.148  31.738  32.227  75.195     83.496\n",
      "7522  1.587020e+09  20.020  37.598  34.180  26.367     11.230\n",
      "7523  1.587020e+09 -15.137  35.156  32.227 -17.090     -9.277\n",
      "7524  1.587020e+09  30.273  31.250  33.691  17.578    -22.461\n",
      "7525  1.587020e+09  73.242  32.227  35.645  68.848     22.949\n",
      "7526  1.587020e+09  24.414  36.621  32.715  48.828     83.496\n",
      "7527  1.587020e+09 -10.254  36.621  31.250   0.000     39.551\n",
      "7528  1.587020e+09  18.066  34.180  33.691  14.160    -42.480\n",
      "7529  1.587020e+09  60.059  34.180  32.227  68.848    -29.297\n",
      "7530  1.587020e+09  59.082  34.668  31.250  67.871     -1.465\n",
      "7531  1.587020e+09  -0.488  37.109  32.715  10.742    -37.598\n",
      "7532  1.587020e+09  -5.371  36.621  30.273  -2.930     -4.883\n",
      "7533  1.587020e+09  62.012  35.156  28.809  49.316     24.414\n",
      "7534  1.587020e+09  79.590  37.109  31.738  73.730     55.176\n",
      "7535  1.587020e+09  17.578  36.621  35.156  25.391    123.047\n",
      "\n",
      "[7536 rows x 6 columns]\n"
     ]
    }
   ],
   "source": [
    "# Load our initial eeg recording before the muse got borked\n",
    "pdeeg = pd.read_csv(\"../data/EEG_recording_2020-04-16-06.48.31.csv\")\n",
    "print(pdeeg)"
   ]
  },
  {
   "cell_type": "code",
   "execution_count": 35,
   "metadata": {},
   "outputs": [],
   "source": [
    "times_slice = pdeeg.iloc[0:20, 0]\n",
    "pd_slice = pdeeg.iloc[0:20, 1:5]"
   ]
  },
  {
   "cell_type": "markdown",
   "metadata": {},
   "source": [
    "## ICA and our DataWindows\n"
   ]
  },
  {
   "cell_type": "code",
   "execution_count": 36,
   "metadata": {},
   "outputs": [
    {
     "name": "stdout",
     "output_type": "stream",
     "text": [
      "(20, 4)\n",
      "(4, 20)\n",
      "(20,)\n"
     ]
    }
   ],
   "source": [
    "from sklearn.decomposition import FastICA\n",
    "nchan = 4\n",
    "tr = FastICA(n_components=4, random_state=0)\n",
    "transformedChannels = tr.fit_transform(pd_slice)\n",
    "print(transformedChannels.shape)\n",
    "transformedChannels = transformedChannels.T\n",
    "print(transformedChannels.shape)\n",
    "chan1 = transformedChannels[0]\n",
    "chan2 = transformedChannels[1]\n",
    "chan3 = transformedChannels[2]\n",
    "chan4 = transformedChannels[3]\n",
    "y = []\n",
    "for i in range(len(chan1)):\n",
    "    y.append(i)\n",
    "print(chan1.shape)"
   ]
  },
  {
   "cell_type": "code",
   "execution_count": 37,
   "metadata": {},
   "outputs": [],
   "source": [
    "points = [[0],[0], [0], [0]]\n",
    "import matplotlib.pyplot as plt\n",
    "# plt.plot(chan1, 'ro'"
   ]
  },
  {
   "cell_type": "code",
   "execution_count": 39,
   "metadata": {},
   "outputs": [
    {
     "name": "stdout",
     "output_type": "stream",
     "text": [
      "19\n",
      "19\n"
     ]
    },
    {
     "ename": "ValueError",
     "evalue": "different number of values and points",
     "output_type": "error",
     "traceback": [
      "\u001b[0;31m---------------------------------------------------------------------------\u001b[0m",
      "\u001b[0;31mValueError\u001b[0m                                Traceback (most recent call last)",
      "\u001b[0;32m<ipython-input-39-d10cfcc4ddf6>\u001b[0m in \u001b[0;36m<module>\u001b[0;34m()\u001b[0m\n\u001b[1;32m     35\u001b[0m \u001b[0mxi\u001b[0m \u001b[0;34m=\u001b[0m \u001b[0mnumpy\u001b[0m\u001b[0;34m.\u001b[0m\u001b[0mlinspace\u001b[0m\u001b[0;34m(\u001b[0m\u001b[0;34m-\u001b[0m\u001b[0;36m2\u001b[0m\u001b[0;34m,\u001b[0m \u001b[0;36m6\u001b[0m\u001b[0;34m,\u001b[0m \u001b[0mN\u001b[0m\u001b[0;34m)\u001b[0m\u001b[0;34m\u001b[0m\u001b[0m\n\u001b[1;32m     36\u001b[0m \u001b[0myi\u001b[0m \u001b[0;34m=\u001b[0m \u001b[0mnumpy\u001b[0m\u001b[0;34m.\u001b[0m\u001b[0mlinspace\u001b[0m\u001b[0;34m(\u001b[0m\u001b[0;34m-\u001b[0m\u001b[0;36m2\u001b[0m\u001b[0;34m,\u001b[0m \u001b[0;36m6\u001b[0m\u001b[0;34m,\u001b[0m \u001b[0mN\u001b[0m\u001b[0;34m)\u001b[0m\u001b[0;34m\u001b[0m\u001b[0m\n\u001b[0;32m---> 37\u001b[0;31m \u001b[0mzi\u001b[0m \u001b[0;34m=\u001b[0m \u001b[0mscipy\u001b[0m\u001b[0;34m.\u001b[0m\u001b[0minterpolate\u001b[0m\u001b[0;34m.\u001b[0m\u001b[0mgriddata\u001b[0m\u001b[0;34m(\u001b[0m\u001b[0;34m(\u001b[0m\u001b[0mx\u001b[0m\u001b[0;34m,\u001b[0m \u001b[0my\u001b[0m\u001b[0;34m)\u001b[0m\u001b[0;34m,\u001b[0m \u001b[0mz\u001b[0m\u001b[0;34m,\u001b[0m \u001b[0;34m(\u001b[0m\u001b[0mxi\u001b[0m\u001b[0;34m[\u001b[0m\u001b[0;32mNone\u001b[0m\u001b[0;34m,\u001b[0m\u001b[0;34m:\u001b[0m\u001b[0;34m]\u001b[0m\u001b[0;34m,\u001b[0m \u001b[0myi\u001b[0m\u001b[0;34m[\u001b[0m\u001b[0;34m:\u001b[0m\u001b[0;34m,\u001b[0m\u001b[0;32mNone\u001b[0m\u001b[0;34m]\u001b[0m\u001b[0;34m)\u001b[0m\u001b[0;34m,\u001b[0m \u001b[0mmethod\u001b[0m\u001b[0;34m=\u001b[0m\u001b[0;34m'cubic'\u001b[0m\u001b[0;34m)\u001b[0m\u001b[0;34m\u001b[0m\u001b[0m\n\u001b[0m\u001b[1;32m     38\u001b[0m \u001b[0;34m\u001b[0m\u001b[0m\n\u001b[1;32m     39\u001b[0m \u001b[0;31m# set points > radius to not-a-number. They will not be plotted.\u001b[0m\u001b[0;34m\u001b[0m\u001b[0;34m\u001b[0m\u001b[0m\n",
      "\u001b[0;32m~/anaconda3/lib/python3.7/site-packages/scipy/interpolate/ndgriddata.py\u001b[0m in \u001b[0;36mgriddata\u001b[0;34m(points, values, xi, method, fill_value, rescale)\u001b[0m\n\u001b[1;32m    224\u001b[0m     \u001b[0;32melif\u001b[0m \u001b[0mmethod\u001b[0m \u001b[0;34m==\u001b[0m \u001b[0;34m'cubic'\u001b[0m \u001b[0;32mand\u001b[0m \u001b[0mndim\u001b[0m \u001b[0;34m==\u001b[0m \u001b[0;36m2\u001b[0m\u001b[0;34m:\u001b[0m\u001b[0;34m\u001b[0m\u001b[0m\n\u001b[1;32m    225\u001b[0m         ip = CloughTocher2DInterpolator(points, values, fill_value=fill_value,\n\u001b[0;32m--> 226\u001b[0;31m                                         rescale=rescale)\n\u001b[0m\u001b[1;32m    227\u001b[0m         \u001b[0;32mreturn\u001b[0m \u001b[0mip\u001b[0m\u001b[0;34m(\u001b[0m\u001b[0mxi\u001b[0m\u001b[0;34m)\u001b[0m\u001b[0;34m\u001b[0m\u001b[0m\n\u001b[1;32m    228\u001b[0m     \u001b[0;32melse\u001b[0m\u001b[0;34m:\u001b[0m\u001b[0;34m\u001b[0m\u001b[0m\n",
      "\u001b[0;32minterpnd.pyx\u001b[0m in \u001b[0;36mscipy.interpolate.interpnd.CloughTocher2DInterpolator.__init__\u001b[0;34m()\u001b[0m\n",
      "\u001b[0;32minterpnd.pyx\u001b[0m in \u001b[0;36mscipy.interpolate.interpnd.NDInterpolatorBase.__init__\u001b[0;34m()\u001b[0m\n",
      "\u001b[0;32minterpnd.pyx\u001b[0m in \u001b[0;36mscipy.interpolate.interpnd._check_init_shape\u001b[0;34m()\u001b[0m\n",
      "\u001b[0;31mValueError\u001b[0m: different number of values and points"
     ]
    }
   ],
   "source": [
    "from __future__ import print_function\n",
    "from __future__ import division\n",
    "from __future__ import absolute_import\n",
    "\n",
    "import scipy.interpolate\n",
    "import numpy\n",
    "import matplotlib \n",
    "import matplotlib.pyplot as plt\n",
    "\n",
    "# close old plots\n",
    "plt.close(\"all\")\n",
    "\n",
    "# some parameters\n",
    "N = 300             # number of points for interpolation\n",
    "xy_center = [2,2]   # center of the plot\n",
    "radius = 2          # radius\n",
    "\n",
    "# mostly original code\n",
    "meanR = [9.95184937,   9.87947708,   9.87628496,   9.78414422,\n",
    "         9.79365258,   9.96168969,   9.87537519,   9.74536093,\n",
    "        10.16686878,  10.04425475,  10.10444126,  10.2917172 ,\n",
    "        10.16745917,  10.0235203 ,   9.89914   ,  10.11263505,\n",
    "         9.99756449,  10.17861254,  10.04704248]\n",
    "print(len(meanR))\n",
    "meanR = chan1\n",
    "print(len(meanR))\n",
    "koord = [[1,4],[3,4],[1,3],[3,3],[2,3],[1,2],[3,2],[2,2],[1,1],[3,1],[2,1],[1,0],[3,0],[0,3],[4,3],[0,2],[4,2],[0,1],[4,1]]\n",
    "print(len(koord))\n",
    "x,y = [],[]\n",
    "for i in koord:\n",
    "    x.append(i[0])\n",
    "    y.append(i[1])\n",
    "\n",
    "z = meanR\n",
    "\n",
    "xi = numpy.linspace(-2, 6, N)\n",
    "yi = numpy.linspace(-2, 6, N)\n",
    "zi = scipy.interpolate.griddata((x, y), z, (xi[None,:], yi[:,None]), method='cubic')\n",
    "\n",
    "# set points > radius to not-a-number. They will not be plotted.\n",
    "# the dr/2 makes the edges a bit smoother\n",
    "dr = xi[1] - xi[0]\n",
    "for i in range(N):\n",
    "    for j in range(N):\n",
    "        r = numpy.sqrt((xi[i] - xy_center[0])**2 + (yi[j] - xy_center[1])**2)\n",
    "        if (r - dr/2) > radius:\n",
    "            zi[j,i] = \"nan\"\n",
    "\n",
    "# make figure\n",
    "fig = plt.figure()\n",
    "\n",
    "# set aspect = 1 to make it a circle\n",
    "ax = fig.add_subplot(111, aspect = 1)\n",
    "\n",
    "# use different number of levels for the fill and the lines\n",
    "CS = ax.contourf(xi, yi, zi, 60, cmap = plt.cm.jet, zorder = 1)\n",
    "ax.contour(xi, yi, zi, 15, colors = \"grey\", zorder = 2)\n",
    "\n",
    "# make a color bar\n",
    "cbar = fig.colorbar(CS, ax=ax)\n",
    "\n",
    "# add the data points\n",
    "# I guess there are no data points outside the head...\n",
    "ax.scatter(x, y, marker = 'o', c = 'b', s = 15, zorder = 3)\n",
    "\n",
    "# draw a circle\n",
    "# change the linewidth to hide the \n",
    "circle = matplotlib.patches.Circle(xy = xy_center, radius = radius, edgecolor = \"k\", facecolor = \"none\")\n",
    "ax.add_patch(circle)\n",
    "\n",
    "# make the axis invisible \n",
    "for loc, spine in ax.spines.items():\n",
    "    # use ax.spines.items() in Python 3\n",
    "    spine.set_linewidth(0)\n",
    "\n",
    "# remove the ticks\n",
    "ax.set_xticks([])\n",
    "ax.set_yticks([])\n",
    "\n",
    "# Add some body parts. Hide unwanted parts by setting the zorder low\n",
    "# add two ears\n",
    "circle = matplotlib.patches.Ellipse(xy = [0,2], width = 0.5, height = 1.0, angle = 0, edgecolor = \"k\", facecolor = \"w\", zorder = 0)\n",
    "ax.add_patch(circle)\n",
    "circle = matplotlib.patches.Ellipse(xy = [4,2], width = 0.5, height = 1.0, angle = 0, edgecolor = \"k\", facecolor = \"w\", zorder = 0)\n",
    "ax.add_patch(circle)\n",
    "# add a nose\n",
    "xy = [[1.5,3], [2,4.5],[2.5,3]]\n",
    "polygon = matplotlib.patches.Polygon(xy = xy, facecolor = \"w\", zorder = 0)\n",
    "ax.add_patch(polygon) \n",
    "\n",
    "# set axes limits\n",
    "ax.set_xlim(-0.5, 4.5)\n",
    "ax.set_ylim(-0.5, 4.5)\n",
    "\n",
    "plt.show() "
   ]
  },
  {
   "cell_type": "code",
   "execution_count": null,
   "metadata": {},
   "outputs": [],
   "source": []
  }
 ],
 "metadata": {
  "kernelspec": {
   "display_name": "Python 3",
   "language": "python",
   "name": "python3"
  },
  "language_info": {
   "codemirror_mode": {
    "name": "ipython",
    "version": 3
   },
   "file_extension": ".py",
   "mimetype": "text/x-python",
   "name": "python",
   "nbconvert_exporter": "python",
   "pygments_lexer": "ipython3",
   "version": "3.7.0"
  }
 },
 "nbformat": 4,
 "nbformat_minor": 2
}
